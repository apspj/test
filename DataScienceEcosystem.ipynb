{
 "cells": [
  {
   "cell_type": "markdown",
   "id": "308b4d0f-bdf3-4459-9af9-4e7024e98866",
   "metadata": {},
   "source": [
    "# Data Science Tools and Ecosystem"
   ]
  },
  {
   "cell_type": "markdown",
   "id": "509eff15-ca57-4c5b-b9ae-5915a14818da",
   "metadata": {},
   "source": [
    "In this notebook, Data Science Tools and Ecosystem are summarized."
   ]
  },
  {
   "cell_type": "markdown",
   "id": "4f6b49a2-5c2d-4d04-9ffa-ba33adb3dc2e",
   "metadata": {},
   "source": [
    "**Objectives**"
   ]
  },
  {
   "cell_type": "markdown",
   "id": "1f7d9e5c-00a3-442d-b0c1-de09d3137b97",
   "metadata": {},
   "source": [
    "- List popular languages for Data Science\n",
    "- List commonly used libraries used by Data Scientists\n",
    "- List some Data Science Tools\n",
    "- Introduce arithmetic expressions in Python"
   ]
  },
  {
   "cell_type": "markdown",
   "id": "ab2213e6-1b4c-4bbf-a4d1-e2ac7689b934",
   "metadata": {
    "tags": []
   },
   "source": [
    "Some of the popular languages that Data Scientists use are:"
   ]
  },
  {
   "cell_type": "markdown",
   "id": "0e5c4eb1-cacd-4b90-b9ff-b21669486b8f",
   "metadata": {},
   "source": [
    "1. Python\n",
    "2. R\n",
    "3. Julia"
   ]
  },
  {
   "cell_type": "markdown",
   "id": "d0e64d51-a19a-43e4-a9a1-97a47b75136b",
   "metadata": {},
   "source": [
    "Some of the commonly used libraries used by Data Scientists include:"
   ]
  },
  {
   "cell_type": "markdown",
   "id": "ef1d31bf-413b-4ed8-917f-9ef0a23b89fb",
   "metadata": {},
   "source": [
    "1. dplyr (R)\n",
    "2. NumPy (Python)\n",
    "3. ggplot (R)"
   ]
  },
  {
   "cell_type": "markdown",
   "id": "27d108d9-78b8-4e5b-a4e7-451dcc7ef8f4",
   "metadata": {},
   "source": [
    "|Data Science Tools|\n",
    "--------------------\n",
    "|RStudio|\n",
    "|Jupyter notebooks|\n",
    "|GitHub|"
   ]
  },
  {
   "cell_type": "markdown",
   "id": "cda20ef4-c004-41b3-8d7e-a7af4090d13b",
   "metadata": {},
   "source": [
    "### Below are a few examples of evaluating arithmetic expressions in Python"
   ]
  },
  {
   "cell_type": "code",
   "execution_count": 2,
   "id": "7a50197f-3b77-4c2f-9058-3c8c6650e3b3",
   "metadata": {
    "tags": []
   },
   "outputs": [
    {
     "data": {
      "text/plain": [
       "17"
      ]
     },
     "execution_count": 2,
     "metadata": {},
     "output_type": "execute_result"
    }
   ],
   "source": [
    "# This a simple arithmetic expression to mutiply then add integers\n",
    "(3*4)+5"
   ]
  },
  {
   "cell_type": "code",
   "execution_count": 3,
   "id": "ae6fdf4c-bc8a-4c61-8139-235d5dd58248",
   "metadata": {
    "tags": []
   },
   "outputs": [
    {
     "data": {
      "text/plain": [
       "3.3333333333333335"
      ]
     },
     "execution_count": 3,
     "metadata": {},
     "output_type": "execute_result"
    }
   ],
   "source": [
    "# This will convert 200 minutes to hours by diving by 60\n",
    "200/60"
   ]
  },
  {
   "cell_type": "markdown",
   "id": "620a9cc8-5f45-4903-b493-7b6fb23efef2",
   "metadata": {},
   "source": [
    "## **Author**\n",
    "Ana Paula S. P. Jakubów"
   ]
  }
 ],
 "metadata": {
  "kernelspec": {
   "display_name": "Python",
   "language": "python",
   "name": "conda-env-python-py"
  },
  "language_info": {
   "codemirror_mode": {
    "name": "ipython",
    "version": 3
   },
   "file_extension": ".py",
   "mimetype": "text/x-python",
   "name": "python",
   "nbconvert_exporter": "python",
   "pygments_lexer": "ipython3",
   "version": "3.7.12"
  }
 },
 "nbformat": 4,
 "nbformat_minor": 5
}
